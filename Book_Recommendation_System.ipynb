{
  "nbformat": 4,
  "nbformat_minor": 0,
  "metadata": {
    "colab": {
      "private_outputs": true,
      "provenance": [],
      "collapsed_sections": [
        "mDgbUHAGgjLW"
      ]
    },
    "kernelspec": {
      "name": "python3",
      "display_name": "Python 3"
    },
    "language_info": {
      "name": "python"
    }
  },
  "cells": [
    {
      "cell_type": "markdown",
      "source": [
        "# **Project Name**    - Book Recommendation System\n",
        "\n"
      ],
      "metadata": {
        "id": "vncDsAP0Gaoa"
      }
    },
    {
      "cell_type": "markdown",
      "source": [
        "# **Name - Hirapara Paras**"
      ],
      "metadata": {
        "id": "beRrZCGUAJYm"
      }
    },
    {
      "cell_type": "markdown",
      "source": [
        "# **GitHub Link -**"
      ],
      "metadata": {
        "id": "w6K7xa23Elo4"
      }
    },
    {
      "cell_type": "markdown",
      "source": [
        "https://github.com/parashirapara"
      ],
      "metadata": {
        "id": "h1o69JH3Eqqn"
      }
    },
    {
      "cell_type": "markdown",
      "source": [
        "# **General Guidelines** : -  "
      ],
      "metadata": {
        "id": "mDgbUHAGgjLW"
      }
    },
    {
      "cell_type": "markdown",
      "source": [
        "1.   Well-structured, formatted, and commented code is required.\n",
        "2.   Exception Handling, Production Grade Code & Deployment Ready Code will be a plus. Those students will be awarded some additional credits.\n",
        "     \n",
        "     The additional credits will have advantages over other students during Star Student selection.\n",
        "       \n",
        "             [ Note: - Deployment Ready Code is defined as, the whole .ipynb notebook should be executable in one go\n",
        "                       without a single error logged. ]\n",
        "\n",
        "3.   Each and every logic should have proper comments.\n",
        "4. You may add as many number of charts you want. Make Sure for each and every chart the following format should be answered.\n",
        "        \n",
        "\n",
        "```\n",
        "# Chart visualization code\n",
        "```\n",
        "            \n",
        "\n",
        "*   Why did you pick the specific chart?\n",
        "*   What is/are the insight(s) found from the chart?\n",
        "* Will the gained insights help creating a positive business impact?\n",
        "Are there any insights that lead to negative growth? Justify with specific reason.\n",
        "\n",
        "5. You have to create at least 15 logical & meaningful charts having important insights.\n",
        "\n",
        "\n",
        "[ Hints : - Do the Vizualization in  a structured way while following \"UBM\" Rule.\n",
        "\n",
        "U - Univariate Analysis,\n",
        "\n",
        "B - Bivariate Analysis (Numerical - Categorical, Numerical - Numerical, Categorical - Categorical)\n",
        "\n",
        "M - Multivariate Analysis\n",
        " ]\n",
        "\n",
        "\n",
        "\n",
        "\n",
        "\n",
        "6. You may add more ml algorithms for model creation. Make sure for each and every algorithm, the following format should be answered.\n",
        "\n",
        "\n",
        "*   Explain the ML Model used and it's performance using Evaluation metric Score Chart.\n",
        "\n",
        "\n",
        "*   Cross- Validation & Hyperparameter Tuning\n",
        "\n",
        "*   Have you seen any improvement? Note down the improvement with updates Evaluation metric Score Chart.\n",
        "\n",
        "*   Explain each evaluation metric's indication towards business and the business impact pf the ML model used.\n",
        "\n",
        "\n",
        "\n",
        "\n",
        "\n",
        "\n",
        "\n",
        "\n",
        "\n",
        "\n",
        "\n",
        "\n",
        "\n",
        "\n",
        "\n",
        "\n",
        "\n",
        "\n"
      ],
      "metadata": {
        "id": "ZrxVaUj-hHfC"
      }
    },
    {
      "cell_type": "markdown",
      "source": [
        "# ***Let's Begin !***"
      ],
      "metadata": {
        "id": "O_i_v8NEhb9l"
      }
    },
    {
      "cell_type": "markdown",
      "source": [
        "# **Context**"
      ],
      "metadata": {
        "id": "KQBbhWusTcjL"
      }
    },
    {
      "cell_type": "markdown",
      "source": [
        "During the last few decades, with the rise of Youtube, Amazon, Netflix and many other such web services, recommender systems have taken more and more place in our lives. From e-commerce (suggest to buyers articles that could interest them) to online advertisement (suggest to users the right contents, matching their preferences), recommender systems are today unavoidable in our daily online journeys. In a very general way, recommender systems are algorithms aimed at suggesting relevant items to users (items being movies to watch, text to read, products to buy or anything else depending on industries).\n",
        "\n",
        "Recommender systems are really critical in some industries as they can generate a huge amount of income when they are efficient or also be a way to stand out significantly from competitors. As a proof of the importance of recommender systems, we can mention that, a few years ago, Netflix organised a challenges (the “Netflix prize”) where the goal was to produce a recommender system that performs better than its own algorithm with a prize of 1 million dollars to win.\n",
        "\n",
        "By applying this simple dataset and related tasks and notebooks , we will evolutionary go through different paradigms of recommender algorithms . For each of them, we will present how they work, describe their theoretical basis and discuss their strengths and weaknesses."
      ],
      "metadata": {
        "id": "fSq901IOTWeR"
      }
    },
    {
      "cell_type": "markdown",
      "source": [
        "## ***1. Know Your Data***"
      ],
      "metadata": {
        "id": "HhfV-JJviCcP"
      }
    },
    {
      "cell_type": "markdown",
      "source": [
        "### Import Libraries"
      ],
      "metadata": {
        "id": "Y3lxredqlCYt"
      }
    },
    {
      "cell_type": "code",
      "source": [
        "# Import Libraries\n",
        "\n",
        "import numpy as np # linear algebra\n",
        "import pandas as pd # data processing, CSV file I/O (e.g. pd.read_csv)\n",
        "\n",
        "import seaborn as sns\n",
        "import matplotlib.pyplot as plt\n",
        "from PIL import Image\n",
        "import requests\n",
        "\n",
        "from scipy.sparse import csr_matrix\n",
        "\n",
        "from sklearn.neighbors import NearestNeighbors"
      ],
      "metadata": {
        "id": "M8Vqi-pPk-HR"
      },
      "execution_count": null,
      "outputs": []
    },
    {
      "cell_type": "markdown",
      "source": [
        "### Dataset Loading"
      ],
      "metadata": {
        "id": "3RnN4peoiCZX"
      }
    },
    {
      "cell_type": "code",
      "source": [
        "# Load Dataset\n",
        "\n",
        "from google.colab import drive\n",
        "drive.mount('/content/drive')"
      ],
      "metadata": {
        "id": "4CkvbW_SlZ_R"
      },
      "execution_count": null,
      "outputs": []
    },
    {
      "cell_type": "code",
      "source": [
        "# Load Dataset path\n",
        "\n",
        "books = pd.read_csv(\"/content/drive/MyDrive/Data Science/Capston Project/Book Recommendation System/Books.csv\")\n",
        "ratings = pd.read_csv(\"/content/drive/MyDrive/Data Science/Capston Project/Book Recommendation System/Ratings.csv\")\n",
        "users = pd.read_csv(\"/content/drive/MyDrive/Data Science/Capston Project/Book Recommendation System/Users.csv\")"
      ],
      "metadata": {
        "id": "_tKLmHGlksiG"
      },
      "execution_count": null,
      "outputs": []
    },
    {
      "cell_type": "markdown",
      "source": [
        "### Dataset First View"
      ],
      "metadata": {
        "id": "x71ZqKXriCWQ"
      }
    },
    {
      "cell_type": "code",
      "source": [
        "# Dataset First Look\n",
        "\n",
        "books.head()"
      ],
      "metadata": {
        "id": "LWNFOSvLl09H"
      },
      "execution_count": null,
      "outputs": []
    },
    {
      "cell_type": "code",
      "source": [
        "ratings.head()"
      ],
      "metadata": {
        "id": "K5ToCxCXlTtF"
      },
      "execution_count": null,
      "outputs": []
    },
    {
      "cell_type": "code",
      "source": [
        "users.head()"
      ],
      "metadata": {
        "id": "wn_-58uolXWx"
      },
      "execution_count": null,
      "outputs": []
    },
    {
      "cell_type": "markdown",
      "source": [
        "# **Content**"
      ],
      "metadata": {
        "id": "OkfNoHV3TubA"
      }
    },
    {
      "cell_type": "markdown",
      "source": [
        "The Book-Crossing dataset comprises 3 files.\n",
        "\n",
        "Users\n",
        "Contains the users. Note that user IDs (User-ID) have been anonymized and map to integers. Demographic data is provided (Location, Age) if available. Otherwise, these fields contain NULL-values.\n",
        "\n",
        "Books\n",
        "Books are identified by their respective ISBN. Invalid ISBNs have already been removed from the dataset. Moreover, some content-based information is given (Book-Title, Book-Author, Year-Of-Publication, Publisher), obtained from Amazon Web Services. Note that in case of several authors, only the first is provided. URLs linking to cover images are also given, appearing in three different flavours (Image-URL-S, Image-URL-M, Image-URL-L), i.e., small, medium, large. These URLs point to the Amazon web site.\n",
        "\n",
        "Ratings\n",
        "Contains the book rating information. Ratings (Book-Rating) are either explicit, expressed on a scale from 1-10 (higher values denoting higher appreciation), or implicit, expressed by 0."
      ],
      "metadata": {
        "id": "zE1y83wHTtCT"
      }
    },
    {
      "cell_type": "markdown",
      "source": [
        "### Dataset Rows & Columns count"
      ],
      "metadata": {
        "id": "7hBIi_osiCS2"
      }
    },
    {
      "cell_type": "code",
      "source": [
        "# Dataset Rows & Columns count\n",
        "\n",
        "print(\"Shape of books file\", books.shape)\n",
        "print(\"Shape of ratings file\", ratings.shape)\n",
        "print(\"Shape of users file\", users.shape)"
      ],
      "metadata": {
        "id": "Kllu7SJgmLij"
      },
      "execution_count": null,
      "outputs": []
    },
    {
      "cell_type": "markdown",
      "source": [
        "### Dataset Information"
      ],
      "metadata": {
        "id": "JlHwYmJAmNHm"
      }
    },
    {
      "cell_type": "code",
      "source": [
        "# Dataset Info\n",
        "\n",
        "books.info()"
      ],
      "metadata": {
        "id": "e9hRXRi6meOf"
      },
      "execution_count": null,
      "outputs": []
    },
    {
      "cell_type": "code",
      "source": [
        "ratings.info()"
      ],
      "metadata": {
        "id": "IRwVs5frmd_F"
      },
      "execution_count": null,
      "outputs": []
    },
    {
      "cell_type": "code",
      "source": [
        "users.info()"
      ],
      "metadata": {
        "id": "PmGNXzeMmiTH"
      },
      "execution_count": null,
      "outputs": []
    },
    {
      "cell_type": "markdown",
      "source": [
        "#### Duplicate Values"
      ],
      "metadata": {
        "id": "35m5QtbWiB9F"
      }
    },
    {
      "cell_type": "code",
      "source": [
        "# Dataset Duplicate Value Count for store and sales dataset\n",
        "\n",
        "a=len(books[books.duplicated()])\n",
        "b=len(ratings[ratings.duplicated()])\n",
        "c=len(users[users.duplicated()])\n",
        "\n",
        "print(\"Duplicate values of sales_df =\",a)\n",
        "print(\"Duplicate values of stores_df =\",b)\n",
        "print(\"Duplicate values of stores_df =\",c)"
      ],
      "metadata": {
        "id": "1sLdpKYkmox0"
      },
      "execution_count": null,
      "outputs": []
    },
    {
      "cell_type": "markdown",
      "source": [
        "#### Missing Values/Null Values"
      ],
      "metadata": {
        "id": "PoPl-ycgm1ru"
      }
    },
    {
      "cell_type": "code",
      "source": [
        "# Missing Values/Null Values Count\n",
        "\n",
        "books.isna().sum()"
      ],
      "metadata": {
        "id": "GgHWkxvamxVg"
      },
      "execution_count": null,
      "outputs": []
    },
    {
      "cell_type": "code",
      "source": [
        "ratings.isna().sum()"
      ],
      "metadata": {
        "id": "ZE_WkkqznYG1"
      },
      "execution_count": null,
      "outputs": []
    },
    {
      "cell_type": "code",
      "source": [
        "users.isna().sum()"
      ],
      "metadata": {
        "id": "3q5wnI3om9sJ"
      },
      "execution_count": null,
      "outputs": []
    },
    {
      "cell_type": "markdown",
      "source": [
        "## ***2. Understanding Your Variables***"
      ],
      "metadata": {
        "id": "nA9Y7ga8ng1Z"
      }
    },
    {
      "cell_type": "code",
      "source": [
        "# Dataset Columns\n",
        "\n",
        "books.columns"
      ],
      "metadata": {
        "id": "j7xfkqrt5Ag5"
      },
      "execution_count": null,
      "outputs": []
    },
    {
      "cell_type": "code",
      "source": [
        "# drop unused columns\n",
        "\n",
        "books=books[['ISBN', 'Book-Title', 'Book-Author', 'Year-Of-Publication', 'Publisher','Image-URL-S']]"
      ],
      "metadata": {
        "id": "RkF2eny_qRjw"
      },
      "execution_count": null,
      "outputs": []
    },
    {
      "cell_type": "code",
      "source": [
        "# rename\n",
        "\n",
        "books.rename(columns={'Book-Title':'title', 'Book-Author':'author', 'Year-Of-Publication':'year', 'Publisher':'publisher'},inplace=True)"
      ],
      "metadata": {
        "id": "W-V5NJGVqeu9"
      },
      "execution_count": null,
      "outputs": []
    },
    {
      "cell_type": "code",
      "source": [
        "ratings.columns"
      ],
      "metadata": {
        "id": "WgILxrehoP3F"
      },
      "execution_count": null,
      "outputs": []
    },
    {
      "cell_type": "code",
      "source": [
        "# rename\n",
        "\n",
        "ratings.rename(columns={'User-ID':'user-id', 'Book-Rating':'ratings'},inplace=True)"
      ],
      "metadata": {
        "id": "UO-7XxCyqtXj"
      },
      "execution_count": null,
      "outputs": []
    },
    {
      "cell_type": "code",
      "source": [
        "users.columns"
      ],
      "metadata": {
        "id": "vDu8ROd0oUTL"
      },
      "execution_count": null,
      "outputs": []
    },
    {
      "cell_type": "code",
      "source": [
        "# rename\n",
        "\n",
        "users.rename(columns={'User-ID':'user-id', 'Location':'location', 'Age':'age'},inplace=True)"
      ],
      "metadata": {
        "id": "tW9zQRHcqnsN"
      },
      "execution_count": null,
      "outputs": []
    },
    {
      "cell_type": "markdown",
      "source": [
        "# **Data Processing**"
      ],
      "metadata": {
        "id": "ObnVvqmdiTVa"
      }
    },
    {
      "cell_type": "code",
      "source": [
        "# creating a Boolean Series by comparing each unique value\n",
        "\n",
        "x=ratings['user-id'].value_counts()>200\n",
        "\n",
        "# extract the indices of the True values in the boolean Series\n",
        "\n",
        "y=x[x].index"
      ],
      "metadata": {
        "id": "meo_daQfrG5c"
      },
      "execution_count": null,
      "outputs": []
    },
    {
      "cell_type": "code",
      "source": [
        "# filter the DataFrame\n",
        "\n",
        "ratings = ratings[ratings['user-id'].isin(y)]"
      ],
      "metadata": {
        "id": "nQ7hkIVCrM13"
      },
      "execution_count": null,
      "outputs": []
    },
    {
      "cell_type": "code",
      "source": [
        "# merge ratings and books data\n",
        "\n",
        "ratings_with_books = ratings.merge(books,on='ISBN')"
      ],
      "metadata": {
        "id": "xVeDEbuSrQXh"
      },
      "execution_count": null,
      "outputs": []
    },
    {
      "cell_type": "code",
      "source": [
        "# group by eith respect to title and rating\n",
        "\n",
        "number_rating = ratings_with_books.groupby('title')['ratings'].count().reset_index()"
      ],
      "metadata": {
        "id": "EL_oYzfErTFN"
      },
      "execution_count": null,
      "outputs": []
    },
    {
      "cell_type": "code",
      "source": [
        "number_rating.head()"
      ],
      "metadata": {
        "id": "VYmDr7P3sCUb"
      },
      "execution_count": null,
      "outputs": []
    },
    {
      "cell_type": "code",
      "source": [
        "# rename\n",
        "\n",
        "number_rating.rename(columns={'ratings':'number of ratings'},inplace=True)"
      ],
      "metadata": {
        "id": "gIlLg7HDsyrW"
      },
      "execution_count": null,
      "outputs": []
    },
    {
      "cell_type": "code",
      "source": [
        "# merge\n",
        "\n",
        "final_rating = ratings_with_books.merge(number_rating,on='title')"
      ],
      "metadata": {
        "id": "K3tzheE5s5Lg"
      },
      "execution_count": null,
      "outputs": []
    },
    {
      "cell_type": "code",
      "source": [
        "final_rating.head()"
      ],
      "metadata": {
        "id": "OnnMY07fs_Ct"
      },
      "execution_count": null,
      "outputs": []
    },
    {
      "cell_type": "code",
      "source": [
        "# DataFrame will be updated to include only the rows related to books with 10 or more ratings\n",
        "\n",
        "final_rating = final_rating[final_rating['number of ratings']>=10]\n",
        "\n",
        "common_books = final_rating[~final_rating[\"title\"].isin(final_rating)]"
      ],
      "metadata": {
        "id": "Hz1VDpQNtaRg"
      },
      "execution_count": null,
      "outputs": []
    },
    {
      "cell_type": "code",
      "source": [
        "final_rating.head()"
      ],
      "metadata": {
        "id": "6B-TKrEVtb39"
      },
      "execution_count": null,
      "outputs": []
    },
    {
      "cell_type": "code",
      "source": [
        "final_rating.shape"
      ],
      "metadata": {
        "id": "XCaGQwUptp-d"
      },
      "execution_count": null,
      "outputs": []
    },
    {
      "cell_type": "code",
      "source": [
        "# drop duplicate values\n",
        "\n",
        "final_rating.drop_duplicates(['user-id','title'],inplace=True)"
      ],
      "metadata": {
        "id": "BoL9wFxbtj2s"
      },
      "execution_count": null,
      "outputs": []
    },
    {
      "cell_type": "code",
      "source": [
        "final_rating.shape"
      ],
      "metadata": {
        "id": "Y9LLNRkvtshk"
      },
      "execution_count": null,
      "outputs": []
    },
    {
      "cell_type": "markdown",
      "source": [
        "# **Weighted Rating-Based Recommendation System**"
      ],
      "metadata": {
        "id": "tC5gU_r85kIQ"
      }
    },
    {
      "cell_type": "code",
      "source": [
        "avg_ratings = final_rating.groupby('title')['ratings'].mean().reset_index().rename(columns={'ratings': 'avg_rating'})\n",
        "\n",
        "avg = pd.DataFrame(avg_ratings).sort_values('avg_rating',ascending=False)"
      ],
      "metadata": {
        "id": "1_zZ4OLl5j2L"
      },
      "execution_count": null,
      "outputs": []
    },
    {
      "cell_type": "code",
      "source": [
        "cnt_ratings = final_rating.groupby('title')['ratings'].count().reset_index().rename(columns={'ratings': 'count_rating'})\n",
        "\n",
        "cnt = pd.DataFrame(cnt_ratings).sort_values('count_rating',ascending=False)"
      ],
      "metadata": {
        "id": "vt_XjwBw6AFT"
      },
      "execution_count": null,
      "outputs": []
    },
    {
      "cell_type": "code",
      "source": [
        "popularite = avg.merge(cnt,on='title')"
      ],
      "metadata": {
        "id": "O9-av-sH6Iv5"
      },
      "execution_count": null,
      "outputs": []
    },
    {
      "cell_type": "code",
      "source": [
        "v = popularite[\"count_rating\"]\n",
        "R = popularite[\"avg_rating\"]\n",
        "m = v.quantile(0.90)\n",
        "c = R.mean()\n",
        "popularite['w_score']=((v*R) + (m*c)) / (v+m)"
      ],
      "metadata": {
        "id": "HdweVJv26OpW"
      },
      "execution_count": null,
      "outputs": []
    },
    {
      "cell_type": "code",
      "source": [
        "pop_sort = popularite.sort_values('w_score',ascending=False)"
      ],
      "metadata": {
        "id": "twV7oYnO6R4w"
      },
      "execution_count": null,
      "outputs": []
    },
    {
      "cell_type": "code",
      "source": [
        "top_10_books = pop_sort.head(10)\n",
        "\n",
        "plt.figure(figsize=(20, 10))\n",
        "sns.barplot(x='w_score', y='title', data=top_10_books)\n",
        "plt.xlabel('w_score')\n",
        "plt.ylabel('Book-Title')\n",
        "plt.title('Top 10 Books with Highest w_score')\n",
        "plt.show()"
      ],
      "metadata": {
        "id": "vOdscHXI6dqy"
      },
      "execution_count": null,
      "outputs": []
    },
    {
      "cell_type": "markdown",
      "source": [
        "# **Collaborative filtering recommendation system**"
      ],
      "metadata": {
        "id": "kCW5Ou4q7Bmj"
      }
    },
    {
      "cell_type": "code",
      "source": [
        "# creating pivot table\n",
        "\n",
        "rating_pivot = final_rating.pivot_table(columns='user-id',index='title',values='ratings')\n",
        "rating_pivot.fillna(0,inplace=True)"
      ],
      "metadata": {
        "id": "EcQOMQhXt5_a"
      },
      "execution_count": null,
      "outputs": []
    },
    {
      "cell_type": "code",
      "source": [
        "rating_pivot.head()"
      ],
      "metadata": {
        "id": "pl1ADZ_RuC57"
      },
      "execution_count": null,
      "outputs": []
    },
    {
      "cell_type": "code",
      "source": [
        "# CSR is a commonly used sparse matrix format, which is efficient for storing and performing operations on matrices with a large number of zero elements.\n",
        "\n",
        "book_sparse = csr_matrix(rating_pivot)"
      ],
      "metadata": {
        "id": "WJlXlEwDuWEs"
      },
      "execution_count": null,
      "outputs": []
    },
    {
      "cell_type": "code",
      "source": [
        "users_items_pivot_matrix = rating_pivot.values\n",
        "users_items_pivot_matrix[:10]"
      ],
      "metadata": {
        "id": "dwo5cgrsvrYv"
      },
      "execution_count": null,
      "outputs": []
    },
    {
      "cell_type": "code",
      "source": [
        "users_ids = list(rating_pivot.index)\n",
        "users_ids[:10]"
      ],
      "metadata": {
        "id": "A_BiDX9qvyUK"
      },
      "execution_count": null,
      "outputs": []
    },
    {
      "cell_type": "markdown",
      "source": [
        "# **Collaborative filtering : NearestNeighbors model for recommendation system**"
      ],
      "metadata": {
        "id": "ZAXxxMOW7O8p"
      }
    },
    {
      "cell_type": "markdown",
      "source": [
        "Collaborative filtering is undoubtedly a popular technique for creating recommendation systems based on user preferences and actions. I can give you a more thorough breakdown of how collaborative filtering functions and how to use it.\n",
        "\n",
        "Collaborative filtering techniques leverage patterns and connections between users and products (in your instance, books) to generate recommendations. The two primary forms of collaborative filtering are.\n",
        "\n",
        "# Content - Based Collaborative Filtering\n",
        "\n",
        "This method finds people who share the target user's preferences and then suggests products that those users liked. It is assumed that if users A and B have shared historical preferences, then what one of them likes, the other may as well.\n"
      ],
      "metadata": {
        "id": "FX4tmjBv-UJa"
      }
    },
    {
      "cell_type": "code",
      "source": [
        "# model creation\n",
        "\n",
        "model=NearestNeighbors(algorithm='brute')"
      ],
      "metadata": {
        "id": "2OWIUUatugJY"
      },
      "execution_count": null,
      "outputs": []
    },
    {
      "cell_type": "code",
      "source": [
        "# fit the model\n",
        "\n",
        "model.fit(book_sparse)"
      ],
      "metadata": {
        "id": "CuRtVyXkumaq"
      },
      "execution_count": null,
      "outputs": []
    },
    {
      "cell_type": "code",
      "source": [
        "distances,suggestions=model.kneighbors(rating_pivot.iloc[10,:].values.reshape(1,-1),n_neighbors=6)"
      ],
      "metadata": {
        "id": "ZHwAr8ZSuq4N"
      },
      "execution_count": null,
      "outputs": []
    },
    {
      "cell_type": "code",
      "source": [
        "distances\n",
        "for i in range(len(suggestions)):\n",
        "    print(rating_pivot.index[suggestions[i]])"
      ],
      "metadata": {
        "id": "tajbMO7QutOI"
      },
      "execution_count": null,
      "outputs": []
    },
    {
      "cell_type": "code",
      "source": [
        "def recommended_book(book_name):\n",
        "    book_id=np.where(rating_pivot.index==book_name)[0][0]\n",
        "    distances,suggestions=model.kneighbors(rating_pivot.iloc[book_id,:].values.reshape(1,-1),n_neighbors=6)\n",
        "    for i in range(len(suggestions)):\n",
        "        #if i==0:\n",
        "        print('The suggestions ',book_name,' are :')\n",
        "\n",
        "        print(rating_pivot.index[suggestions[i]])"
      ],
      "metadata": {
        "id": "S6Qgr2jpuvpq"
      },
      "execution_count": null,
      "outputs": []
    },
    {
      "cell_type": "code",
      "source": [
        "recommended_book('Animal Farm')"
      ],
      "metadata": {
        "id": "SRQulIqhuyrM"
      },
      "execution_count": null,
      "outputs": []
    },
    {
      "cell_type": "code",
      "source": [
        "recommended_book('84 Charing Cross Road')"
      ],
      "metadata": {
        "id": "lI8RrEGHIpby"
      },
      "execution_count": null,
      "outputs": []
    },
    {
      "cell_type": "markdown",
      "source": [
        "In this notebook study, we used user ID and item based recommendation systems to choose books for a randomly chosen user from a vast collection of books. On an individual basis, we identified users who had behaviors comparable to our users and suggested their preferred books to our users. We recommended the six novels that most closely matched the rating system of the book our user had read based on the items."
      ],
      "metadata": {
        "id": "IHok0kANRQVm"
      }
    }
  ]
}